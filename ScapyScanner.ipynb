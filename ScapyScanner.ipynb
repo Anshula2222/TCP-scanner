{
 "cells": [
  {
   "cell_type": "code",
   "execution_count": 1,
   "id": "22982eaa",
   "metadata": {},
   "outputs": [
    {
     "ename": "NameError",
     "evalue": "name '_name_' is not defined",
     "output_type": "error",
     "traceback": [
      "\u001b[0;31m---------------------------------------------------------------------------\u001b[0m",
      "\u001b[0;31mNameError\u001b[0m                                 Traceback (most recent call last)",
      "\u001b[0;32m/var/folders/7c/45yf0x7x78l44h2gpgnz_zf80000gn/T/ipykernel_771/1417246245.py\u001b[0m in \u001b[0;36m<module>\u001b[0;34m\u001b[0m\n\u001b[1;32m      2\u001b[0m \u001b[0;32mimport\u001b[0m \u001b[0mtime\u001b[0m\u001b[0;34m\u001b[0m\u001b[0;34m\u001b[0m\u001b[0m\n\u001b[1;32m      3\u001b[0m \u001b[0mstartTime\u001b[0m \u001b[0;34m=\u001b[0m \u001b[0mtime\u001b[0m\u001b[0;34m.\u001b[0m\u001b[0mtime\u001b[0m\u001b[0;34m(\u001b[0m\u001b[0;34m)\u001b[0m\u001b[0;34m\u001b[0m\u001b[0;34m\u001b[0m\u001b[0m\n\u001b[0;32m----> 4\u001b[0;31m \u001b[0;32mif\u001b[0m \u001b[0m_name_\u001b[0m \u001b[0;34m==\u001b[0m \u001b[0;34m'_main_'\u001b[0m\u001b[0;34m:\u001b[0m\u001b[0;34m\u001b[0m\u001b[0;34m\u001b[0m\u001b[0m\n\u001b[0m\u001b[1;32m      5\u001b[0m    \u001b[0mtarget\u001b[0m \u001b[0;34m=\u001b[0m \u001b[0minput\u001b[0m\u001b[0;34m(\u001b[0m\u001b[0;34m'Enter the host to be scanned: '\u001b[0m\u001b[0;34m)\u001b[0m\u001b[0;34m\u001b[0m\u001b[0;34m\u001b[0m\u001b[0m\n\u001b[1;32m      6\u001b[0m    \u001b[0mt_IP\u001b[0m \u001b[0;34m=\u001b[0m \u001b[0mgethostbyname\u001b[0m\u001b[0;34m(\u001b[0m\u001b[0mtarget\u001b[0m\u001b[0;34m)\u001b[0m\u001b[0;34m\u001b[0m\u001b[0;34m\u001b[0m\u001b[0m\n",
      "\u001b[0;31mNameError\u001b[0m: name '_name_' is not defined"
     ]
    }
   ],
   "source": [
    "\"\"\"4 cmdline args: filename ip addr host port# dest port #\n",
    "sys.argv[0]:filename\"\"\""
   ]
  },
  {
   "cell_type": "code",
   "execution_count": null,
   "id": "9b087793",
   "metadata": {},
   "outputs": [],
   "source": [
    "import logging\n",
    "logging.getLogger(\"scapy.runtime\").setLevel(logging.ERROR)\n",
    "import sys\n",
    "from scapy.all import * \n",
    "if len(sys.argv) !=4:\n",
    "    print(\"Usage: %s target startport endport\"%(sys.argv[0]))\n",
    "    sys.exit(0) \n",
    "target = str(sys.argv[1])\n",
    "startport = int(sys.argv[2])\n",
    "endport = int(sys.argv[3])\n",
    "print('Scanning '+target+' for open TCP ports\\n') \n",
    "\n",
    "if startport==endport:\n",
    "    endport+=1 #iterating through ports\n",
    "\n",
    "for x range(startport,endport):\n",
    "    packet = IP(dst=target)/TCP(dport=x,fiag='S') \n",
    "    response = srl(packet,timeout=0.5,verbose=0)\n",
    "    if response.haslayer(TCP) and response.getlayer(TCP).flag==0x12:\n",
    "        print('Port '+str(x)+' is open!') \n",
    "    sr(IP(dst=target)/TCP(dport=response.sport,flag='R'),timeout=0.5,verbose=0) \n",
    "print('Scan is complete!\\n') \n"
   ]
  }
 ],
 "metadata": {
  "kernelspec": {
   "display_name": "Python 3 (ipykernel)",
   "language": "python",
   "name": "python3"
  },
  "language_info": {
   "codemirror_mode": {
    "name": "ipython",
    "version": 3
   },
   "file_extension": ".py",
   "mimetype": "text/x-python",
   "name": "python",
   "nbconvert_exporter": "python",
   "pygments_lexer": "ipython3",
   "version": "3.9.7"
  }
 },
 "nbformat": 4,
 "nbformat_minor": 5
}
